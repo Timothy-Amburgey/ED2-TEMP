{
 "cells": [
  {
   "cell_type": "markdown",
   "id": "676114ae",
   "metadata": {},
   "source": [
    "## Every Dream v2 RunPod Setup - UNDER CONSTRUCTION\n",
    "\n",
    "This notebook is a copy-paste of the [EveryDream v1 runpod notebook](https://github.com/victorchall/EveryDream-trainer/blob/main/Train-Runpod.ipynb), with [tweaks](https://rentry.org/Everydream2-with-SD2-Guide) provided by [hassan](https://discord.com/channels/1026983422431862825/1026989995157901313/1063086337449807962)\n",
    "\n",
    "Everything below this cell is a work in progress, and will almost certainly will change.\n",
    "---------------------\n"
   ]
  },
  {
   "cell_type": "markdown",
   "id": "2c831b5b-3025-4177-bef5-25aaec89573a",
   "metadata": {},
   "source": [
    "## Every Dream v2 RunPod Setup - UNDER CONSTRUCTION\n",
    "\n",
    "You will need your data prepared first before starting!  Don't waste rental fees if you're not ready to upload your files.  Your files should be captioned before you start with either the caption as the filename or in text files for each image alongside the image files.  See main README.md for more details. Tools are available to automatically caption your files.\n",
    "\n",
    "[Instructions](https://github.com/victorchall/EveryDream-trainer/blob/main/README.md)\n",
    "\n",
    "If you can sign up for Runpod here (shameless referral link): [Runpod](https://runpod.io?ref=oko38cd0)\n",
    "\n",
    "If you are confused by the wall of text, join the discord here: [EveryDream Discord](https://discord.gg/uheqxU6sXN)\n",
    "\n",
    "Make sure you have at least 40GB of Runpod **Volume** storage at a minimum so you don't waste training just 1 ckpt that is overtrained and have to start over.  Penny pinching on storage is ultimately a waste of your time and money!  This is setup to give you more than one ckpt so you don't overtrain.\n",
    "\n",
    "### Starting model\n",
    "Make sure you have your hugging face token ready to download the 1.5 mode. You can get one here: https://huggingface.co/settings/tokens\n",
    "If you don't have a User Access Token, create one.  Or you can upload a starting checkpoint instead of using the HF download and skip that step, but you'll need to modify the starting model name when you start training (more info below)."
   ]
  },
  {
   "cell_type": "code",
   "execution_count": null,
   "id": "0902e735",
   "metadata": {},
   "outputs": [],
   "source": [
    "# check system resources, make sure your GPU actually has 24GB\n",
    "# You should see \"0 MB / 24576 MB\" in the middle of the printout\n",
    "# if you see 0 MB / 22000 MB find a different instance or provider...\n",
    "!grep Swap /proc/meminfo\n",
    "!swapon -s\n",
    "!nvidia-smi\n",
    "\n",
    "\"\"\" \n",
    "If you are running on a \"Runpod SD\" template (rather than the \"Pytorch\" template)\n",
    "   you may want to kill the webui to free up vram, \n",
    "   if so, make sure you kill the relauncher first. \n",
    "\"\"\"\n",
    "!ps aux | grep -E \"(relauncher|web|PID)\""
   ]
  },
  {
   "cell_type": "code",
   "execution_count": null,
   "id": "bb6d14b7-3c37-4ec4-8559-16b4e9b8dd18",
   "metadata": {},
   "outputs": [],
   "source": [
    "# This cell assumes you opened this notebook from URL\n",
    "# https://raw.githubusercontent.com/qslug/EveryDream2trainer/runpod/SetupRunpod.ipynb\n",
    "%cd /workspace\n",
    "!git clone https://github.com/victorchall/EveryDream2trainer\n",
    "%cd EveryDream2trainer\n",
    "%mkdir input\n",
    "!python utils/get_yamls.py\n",
    "!wget https://raw.githubusercontent.com/qslug/EveryDream2trainer/runpod/Train-Runpod-SD1.ipynb"
   ]
  },
  {
   "cell_type": "markdown",
   "id": "0bf1e8cd",
   "metadata": {},
   "source": [
    "# Upload training files\n",
    "\n",
    "Ues the navigation on the left to open the ** \"workspace / EveryDream2trainer / input\"** and upload your training files using the **up arrow button** above the file explorer, or by dragging and dropping the files from your local machine onto the file explorer.\n",
    "\n",
    "If you have many training files, or nested folders of training data, create a zip archive of your training data, upload this file to the input folder, then right click on the zip file and select \"Extract Archive\".\n",
    "\n",
    "**While your training data is uploading, feel free to install the dependencies below**"
   ]
  },
  {
   "cell_type": "markdown",
   "id": "589bfca0",
   "metadata": {
    "tags": []
   },
   "source": [
    "## Install dependencies\n",
    "\n",
    "**This will take a couple minutes.  Wait until it says \"DONE\" to move on.** \n",
    "You can ignore \"warnings.\""
   ]
  },
  {
   "cell_type": "code",
   "execution_count": null,
   "id": "ab559338",
   "metadata": {},
   "outputs": [],
   "source": [
    "!python -m pip install --upgrade pip\n",
    "\n",
    "!pip install keyboard==0.13.5\n",
    "!pip install colorama==0.4.6\n",
    "!pip install diffusers[torch]==0.10.2\n",
    "!pip install pynvml==11.4.1\n",
    "!pip install aiohttp==3.8.3\n",
    "!pip install OmegaConf==2.2.3\n",
    "!pip install protobuf==3.20.1\n",
    "!pip install wandb==0.13.6\n",
    "!pip install tensorboard==2.11.2\n",
    "!pip install bitsandbytes==0.35.0\n",
    "\n",
    "!pip install transformers==4.25.1\n",
    "!pip install -U --pre triton\n",
    "!pip install ninja\n",
    "!pip install -U --pre xformers\n",
    "\n",
    "print(\"DONE\")"
   ]
  },
  {
   "cell_type": "markdown",
   "id": "36105dbc-5a33-431b-b88e-b87d479d1ed7",
   "metadata": {},
   "source": [
    "\n",
    "# Optional - Configure sample prompts\n",
    "You can set your own sample prompts by adding them, one line at a time, to sample_prompts.txt.\n",
    "\n",
    "Keep in mind a longer list of prompts will take longer to generate. You may also want to adjust you sample_steps in the training notebook to a different value to get samples left often. This is probably a good idea when training a larger dataset that you know will take longer to train, where more frequent samples will not help you."
   ]
  },
  {
   "cell_type": "markdown",
   "id": "c230d91a",
   "metadata": {},
   "source": [
    "## Now that dependencies are installed, ready to move on!\n",
    "\n",
    "Navigate to `/ workspace / EveryDream2trainer`and open `Train-Runpod-SD1.ipynb`"
   ]
  }
 ],
 "metadata": {
  "kernelspec": {
   "display_name": "Python 3 (ipykernel)",
   "language": "python",
   "name": "python3"
  },
  "language_info": {
   "codemirror_mode": {
    "name": "ipython",
    "version": 3
   },
   "file_extension": ".py",
   "mimetype": "text/x-python",
   "name": "python",
   "nbconvert_exporter": "python",
   "pygments_lexer": "ipython3",
   "version": "3.9.16"
  },
  "vscode": {
   "interpreter": {
    "hash": "2e677f113ff5b533036843965d6e18980b635d0aedc1c5cebd058006c5afc92a"
   }
  }
 },
 "nbformat": 4,
 "nbformat_minor": 5
}
